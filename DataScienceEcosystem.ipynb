{
 "cells": [
  {
   "cell_type": "markdown",
   "id": "25d81488-b54c-4670-8367-6707ecc69c91",
   "metadata": {},
   "source": [
    "# Data Science Tools and Ecosystem\n",
    "\n",
    "Tomas Saso"
   ]
  },
  {
   "cell_type": "markdown",
   "id": "760145eb-c565-4458-bfc3-b5bebf9caad1",
   "metadata": {},
   "source": [
    "\n",
    "\n",
    "En este cuaderno, se resumen las herramientas y el ecosistema de ciencia de datos."
   ]
  },
  {
   "cell_type": "markdown",
   "id": "4e772fd7-ad6d-4a8a-aed9-7449d93fb7a2",
   "metadata": {},
   "source": [
    "Algunos de los lenguajes populares que utilizan los científicos de datos son:\n",
    "1. Python\n",
    "2. R\n",
    "3. SQL\n"
   ]
  },
  {
   "cell_type": "markdown",
   "id": "2caae670-c352-48b6-9798-c6ad26c43ff9",
   "metadata": {},
   "source": [
    "Algunas de las bibliotecas comúnmente utilizadas por los científicos de datos incluyen:\n",
    "1. Pandas\n",
    "2. NumPy\n",
    "3. Matplotlib\n"
   ]
  },
  {
   "cell_type": "markdown",
   "id": "ee6c2991-1ffd-4b1c-9348-f08eff79b894",
   "metadata": {},
   "source": [
    "| Data Science Tools |\n",
    "|--------------------|\n",
    "| Jupyter Notebook    |\n",
    "| RStudio             |\n",
    "| Apache Spark        |\n"
   ]
  },
  {
   "cell_type": "markdown",
   "id": "2de433b3-099b-4353-a6f1-08deb7b1b5cd",
   "metadata": {},
   "source": [
    "### A continuación se presentan algunos ejemplos de evaluación de expresiones aritméticas en Python.\n"
   ]
  },
  {
   "cell_type": "code",
   "execution_count": 3,
   "id": "b317f601-99ec-42bb-9c58-2853b4b6407e",
   "metadata": {},
   "outputs": [
    {
     "data": {
      "text/plain": [
       "17"
      ]
     },
     "execution_count": 3,
     "metadata": {},
     "output_type": "execute_result"
    }
   ],
   "source": [
    "# Esta es una expresión aritmética simple para multiplicar y luego sumar enteros.\n",
    "resultado = (3 * 4) + 5\n",
    "resultado\n"
   ]
  },
  {
   "cell_type": "code",
   "execution_count": 4,
   "id": "5a8c1dd6-f82a-4a65-8854-a6399ddc38a3",
   "metadata": {},
   "outputs": [
    {
     "data": {
      "text/plain": [
       "3.3333333333333335"
      ]
     },
     "execution_count": 4,
     "metadata": {},
     "output_type": "execute_result"
    }
   ],
   "source": [
    "# Esto convertirá 200 minutos a horas dividiendo por 60.\n",
    "horas = 200 / 60\n",
    "horas\n"
   ]
  },
  {
   "cell_type": "markdown",
   "id": "5fe90223-86da-4186-8cfc-4338bd3503d7",
   "metadata": {},
   "source": [
    "Objetivos:\n",
    "- Enumerar lenguajes populares para la ciencia de datos.\n",
    "- Listar bibliotecas comunes en ciencia de datos.\n",
    "- Crear tablas en Jupyter."
   ]
  },
  {
   "cell_type": "markdown",
   "id": "b1787f53-2db5-4114-8aec-6cdbe59c54e3",
   "metadata": {},
   "source": [
    "## Autor\n",
    "Tomas Saso"
   ]
  },
  {
   "cell_type": "code",
   "execution_count": null,
   "id": "dcb08522-c158-4190-8c48-5e6d389149f4",
   "metadata": {},
   "outputs": [],
   "source": []
  }
 ],
 "metadata": {
  "kernelspec": {
   "display_name": "Python 3 (ipykernel)",
   "language": "python",
   "name": "python3"
  },
  "language_info": {
   "codemirror_mode": {
    "name": "ipython",
    "version": 3
   },
   "file_extension": ".py",
   "mimetype": "text/x-python",
   "name": "python",
   "nbconvert_exporter": "python",
   "pygments_lexer": "ipython3",
   "version": "3.11.9"
  }
 },
 "nbformat": 4,
 "nbformat_minor": 5
}
